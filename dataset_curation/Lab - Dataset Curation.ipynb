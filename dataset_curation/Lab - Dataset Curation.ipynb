{
 "cells": [
  {
   "cell_type": "markdown",
   "id": "fec18a04",
   "metadata": {},
   "source": [
    "# Lab -- Dataset Curation with Multiple Annotators\n",
    "\n",
    "Intended to accompany the lecture on Dataset Creation and Curation, this notebook contains exercises to analyze an existing classification dataset labeled by multiple annotators (e.g. collected via crowdsourcing).\n",
    "\n",
    "You may find it helpful to first install the following dependencies:"
   ]
  },
  {
   "cell_type": "code",
   "execution_count": 1,
   "id": "b07588b1",
   "metadata": {},
   "outputs": [
    {
     "name": "stdout",
     "output_type": "stream",
     "text": [
      "Requirement already satisfied: cleanlab in /home/ozo/repos/dcai-lab/.venv/lib/python3.10/site-packages (2.3.0)\n",
      "Requirement already satisfied: scikit-learn>=1.0 in /home/ozo/repos/dcai-lab/.venv/lib/python3.10/site-packages (from cleanlab) (1.2.2)\n",
      "Requirement already satisfied: termcolor>=2.0.0 in /home/ozo/repos/dcai-lab/.venv/lib/python3.10/site-packages (from cleanlab) (2.2.0)\n",
      "Requirement already satisfied: numpy>=1.20.0 in /home/ozo/repos/dcai-lab/.venv/lib/python3.10/site-packages (from cleanlab) (1.24.2)\n",
      "Requirement already satisfied: pandas>=1.1.5 in /home/ozo/repos/dcai-lab/.venv/lib/python3.10/site-packages (from cleanlab) (1.5.3)\n",
      "Requirement already satisfied: tqdm>=4.53.0 in /home/ozo/repos/dcai-lab/.venv/lib/python3.10/site-packages (from cleanlab) (4.65.0)\n",
      "Requirement already satisfied: python-dateutil>=2.8.1 in /home/ozo/repos/dcai-lab/.venv/lib/python3.10/site-packages (from pandas>=1.1.5->cleanlab) (2.8.2)\n",
      "Requirement already satisfied: pytz>=2020.1 in /home/ozo/repos/dcai-lab/.venv/lib/python3.10/site-packages (from pandas>=1.1.5->cleanlab) (2022.7.1)\n",
      "Requirement already satisfied: scipy>=1.3.2 in /home/ozo/repos/dcai-lab/.venv/lib/python3.10/site-packages (from scikit-learn>=1.0->cleanlab) (1.10.1)\n",
      "Requirement already satisfied: joblib>=1.1.1 in /home/ozo/repos/dcai-lab/.venv/lib/python3.10/site-packages (from scikit-learn>=1.0->cleanlab) (1.2.0)\n",
      "Requirement already satisfied: threadpoolctl>=2.0.0 in /home/ozo/repos/dcai-lab/.venv/lib/python3.10/site-packages (from scikit-learn>=1.0->cleanlab) (3.1.0)\n",
      "Requirement already satisfied: six>=1.5 in /home/ozo/repos/dcai-lab/.venv/lib/python3.10/site-packages (from python-dateutil>=2.8.1->pandas>=1.1.5->cleanlab) (1.16.0)\n"
     ]
    }
   ],
   "source": [
    "!pip install cleanlab\n",
    "# We originally used the version: cleanlab==2.2.0\n",
    "# This automatically installs other required packages like numpy, pandas, sklearn"
   ]
  },
  {
   "cell_type": "code",
   "execution_count": 2,
   "id": "7c2885ea",
   "metadata": {},
   "outputs": [],
   "source": [
    "import numpy as np\n",
    "import pandas as pd"
   ]
  },
  {
   "cell_type": "markdown",
   "id": "9b04a118",
   "metadata": {},
   "source": [
    "## Analyzing dataset labeled by multiple annotators\n",
    "\n",
    "We simulate a small classification dataset (3 classes, 2-dimensional features) with ground truth labels that are then hidden from our analysis. The analysis is conducted on labels from noisy annotators whose labels are derived from the ground truth labels, but with some probability of error in each annotated label where the probability is determined by the underlying quality of the annotator. In subsequent exercises, you should assume the ground truth labels and the true annotator qualities are unknown to you."
   ]
  },
  {
   "cell_type": "code",
   "execution_count": 3,
   "id": "ece750ae",
   "metadata": {},
   "outputs": [],
   "source": [
    "## You don't need to understand this cell, it's just used for generating the dataset\n",
    "\n",
    "SEED = 123  # for reproducibility\n",
    "np.random.seed(seed=SEED)\n",
    "\n",
    "def make_data(sample_size = 300):\n",
    "    \"\"\" Produce a 3-class classification dataset with 2-dimensional features and multiple noisy annotations per example. \"\"\"\n",
    "    num_annotators=50  # total number of data annotators\n",
    "    class_frequencies = [0.5, 0.25, 0.25]\n",
    "    sizes=[int(np.ceil(freq*sample_size)) for freq in class_frequencies]  # number of examples belonging to each class\n",
    "    good_annotator_quality = 0.6\n",
    "    bad_annotator_quality = 0.3\n",
    "    \n",
    "    # Underlying statistics of the datset (unknown to you)\n",
    "    means=[[3, 2], [7, 7], [0, 8]]\n",
    "    covs=[[[5, -1.5], [-1.5, 1]], [[1, 0.5], [0.5, 4]], [[5, 1], [1, 5]]]\n",
    "    \n",
    "    m = len(means)  # number of classes\n",
    "    n = sum(sizes)\n",
    "    local_data = []\n",
    "    labels = []\n",
    "\n",
    "    # Generate features and true labels\n",
    "    for idx in range(m):\n",
    "        local_data.append(\n",
    "            np.random.multivariate_normal(mean=means[idx], cov=covs[idx], size=sizes[idx])\n",
    "        )\n",
    "        labels.append(np.array([idx for i in range(sizes[idx])]))\n",
    "    X_train = np.vstack(local_data)\n",
    "    true_labels_train = np.hstack(labels)\n",
    "\n",
    "    # Generate noisy labels from each annotator\n",
    "    s = pd.DataFrame(\n",
    "        np.vstack(\n",
    "            [\n",
    "                generate_noisy_labels(true_labels_train, good_annotator_quality)\n",
    "                if i < num_annotators - 10  # last 10 annotators are worse\n",
    "                else generate_noisy_labels(true_labels_train, bad_annotator_quality)\n",
    "                for i in range(num_annotators)\n",
    "            ]\n",
    "        ).transpose()\n",
    "    )\n",
    "\n",
    "    # Each annotator only labels approximately 10% of the dataset (unlabeled points represented with NaN)\n",
    "    s = s.apply(lambda x: x.mask(np.random.random(n) < 0.9)).astype(\"Int64\")\n",
    "    s.dropna(axis=1, how=\"all\", inplace=True)\n",
    "    s.columns = [\"A\" + str(i).zfill(4) for i in range(1, num_annotators+1)]\n",
    "    # Drop rows not annotated by anybody\n",
    "    row_NA_check = pd.notna(s).any(axis=1)\n",
    "    X_train = X_train[row_NA_check]\n",
    "    true_labels_train = true_labels_train[row_NA_check]\n",
    "    multiannotator_labels = s[row_NA_check].reset_index(drop=True)\n",
    "    # Shuffle the rows of the dataset\n",
    "    shuffled_indices = np.random.permutation(len(X_train))\n",
    "    return {\n",
    "        \"X_train\": X_train[shuffled_indices],\n",
    "        \"true_labels_train\": true_labels_train[shuffled_indices],\n",
    "        \"multiannotator_labels\": multiannotator_labels.iloc[shuffled_indices],\n",
    "    }\n",
    "\n",
    "def generate_noisy_labels(true_labels, annotator_quality):\n",
    "    \"\"\" Randomly flips each true label to a different class with probability that depends on annotator_quality. \"\"\"\n",
    "    n = len(true_labels)\n",
    "    m = np.max(true_labels) + 1  # number of classes\n",
    "    annotated_labels = np.random.randint(low=0, high=3, size=n)\n",
    "    correctly_labeled_indices = np.random.random(n) < annotator_quality\n",
    "    annotated_labels[correctly_labeled_indices] = true_labels[correctly_labeled_indices]\n",
    "    return annotated_labels"
   ]
  },
  {
   "cell_type": "code",
   "execution_count": 4,
   "id": "9c9e83da",
   "metadata": {},
   "outputs": [],
   "source": [
    "data_dict = make_data(sample_size = 300)\n",
    "\n",
    "X = data_dict[\"X_train\"]\n",
    "multiannotator_labels = data_dict[\"multiannotator_labels\"]\n",
    "true_labels = data_dict[\"true_labels_train\"] # used for comparing the accuracy of consensus labels"
   ]
  },
  {
   "cell_type": "markdown",
   "id": "21412429",
   "metadata": {},
   "source": [
    "Let's view the first few rows of the data used for this exercise. Here are the labels selected by each annotator for the first few examples. Here each example is a row, and the annotators are columns. Not all annotators labeled each example; valid class annotations from those that did label the example are integers (either 0, 1, or 2 for our 3 classes), and otherwise the annotation is left as `NA` if a particular annotator did not label a particular example."
   ]
  },
  {
   "cell_type": "code",
   "execution_count": 5,
   "id": "aa80889d",
   "metadata": {},
   "outputs": [
    {
     "data": {
      "text/html": [
       "<div>\n",
       "<style scoped>\n",
       "    .dataframe tbody tr th:only-of-type {\n",
       "        vertical-align: middle;\n",
       "    }\n",
       "\n",
       "    .dataframe tbody tr th {\n",
       "        vertical-align: top;\n",
       "    }\n",
       "\n",
       "    .dataframe thead th {\n",
       "        text-align: right;\n",
       "    }\n",
       "</style>\n",
       "<table border=\"1\" class=\"dataframe\">\n",
       "  <thead>\n",
       "    <tr style=\"text-align: right;\">\n",
       "      <th></th>\n",
       "      <th>A0001</th>\n",
       "      <th>A0002</th>\n",
       "      <th>A0003</th>\n",
       "      <th>A0004</th>\n",
       "      <th>A0005</th>\n",
       "      <th>A0006</th>\n",
       "      <th>A0007</th>\n",
       "      <th>A0008</th>\n",
       "      <th>A0009</th>\n",
       "      <th>A0010</th>\n",
       "      <th>...</th>\n",
       "      <th>A0041</th>\n",
       "      <th>A0042</th>\n",
       "      <th>A0043</th>\n",
       "      <th>A0044</th>\n",
       "      <th>A0045</th>\n",
       "      <th>A0046</th>\n",
       "      <th>A0047</th>\n",
       "      <th>A0048</th>\n",
       "      <th>A0049</th>\n",
       "      <th>A0050</th>\n",
       "    </tr>\n",
       "  </thead>\n",
       "  <tbody>\n",
       "    <tr>\n",
       "      <th>247</th>\n",
       "      <td>&lt;NA&gt;</td>\n",
       "      <td>2</td>\n",
       "      <td>&lt;NA&gt;</td>\n",
       "      <td>&lt;NA&gt;</td>\n",
       "      <td>&lt;NA&gt;</td>\n",
       "      <td>&lt;NA&gt;</td>\n",
       "      <td>&lt;NA&gt;</td>\n",
       "      <td>&lt;NA&gt;</td>\n",
       "      <td>&lt;NA&gt;</td>\n",
       "      <td>&lt;NA&gt;</td>\n",
       "      <td>...</td>\n",
       "      <td>&lt;NA&gt;</td>\n",
       "      <td>&lt;NA&gt;</td>\n",
       "      <td>&lt;NA&gt;</td>\n",
       "      <td>&lt;NA&gt;</td>\n",
       "      <td>&lt;NA&gt;</td>\n",
       "      <td>&lt;NA&gt;</td>\n",
       "      <td>&lt;NA&gt;</td>\n",
       "      <td>&lt;NA&gt;</td>\n",
       "      <td>&lt;NA&gt;</td>\n",
       "      <td>&lt;NA&gt;</td>\n",
       "    </tr>\n",
       "    <tr>\n",
       "      <th>290</th>\n",
       "      <td>&lt;NA&gt;</td>\n",
       "      <td>&lt;NA&gt;</td>\n",
       "      <td>&lt;NA&gt;</td>\n",
       "      <td>&lt;NA&gt;</td>\n",
       "      <td>&lt;NA&gt;</td>\n",
       "      <td>&lt;NA&gt;</td>\n",
       "      <td>&lt;NA&gt;</td>\n",
       "      <td>&lt;NA&gt;</td>\n",
       "      <td>&lt;NA&gt;</td>\n",
       "      <td>&lt;NA&gt;</td>\n",
       "      <td>...</td>\n",
       "      <td>&lt;NA&gt;</td>\n",
       "      <td>&lt;NA&gt;</td>\n",
       "      <td>&lt;NA&gt;</td>\n",
       "      <td>&lt;NA&gt;</td>\n",
       "      <td>&lt;NA&gt;</td>\n",
       "      <td>&lt;NA&gt;</td>\n",
       "      <td>&lt;NA&gt;</td>\n",
       "      <td>&lt;NA&gt;</td>\n",
       "      <td>&lt;NA&gt;</td>\n",
       "      <td>&lt;NA&gt;</td>\n",
       "    </tr>\n",
       "    <tr>\n",
       "      <th>262</th>\n",
       "      <td>&lt;NA&gt;</td>\n",
       "      <td>&lt;NA&gt;</td>\n",
       "      <td>&lt;NA&gt;</td>\n",
       "      <td>&lt;NA&gt;</td>\n",
       "      <td>&lt;NA&gt;</td>\n",
       "      <td>&lt;NA&gt;</td>\n",
       "      <td>2</td>\n",
       "      <td>&lt;NA&gt;</td>\n",
       "      <td>&lt;NA&gt;</td>\n",
       "      <td>&lt;NA&gt;</td>\n",
       "      <td>...</td>\n",
       "      <td>&lt;NA&gt;</td>\n",
       "      <td>&lt;NA&gt;</td>\n",
       "      <td>&lt;NA&gt;</td>\n",
       "      <td>&lt;NA&gt;</td>\n",
       "      <td>&lt;NA&gt;</td>\n",
       "      <td>&lt;NA&gt;</td>\n",
       "      <td>&lt;NA&gt;</td>\n",
       "      <td>&lt;NA&gt;</td>\n",
       "      <td>&lt;NA&gt;</td>\n",
       "      <td>&lt;NA&gt;</td>\n",
       "    </tr>\n",
       "    <tr>\n",
       "      <th>182</th>\n",
       "      <td>&lt;NA&gt;</td>\n",
       "      <td>&lt;NA&gt;</td>\n",
       "      <td>&lt;NA&gt;</td>\n",
       "      <td>&lt;NA&gt;</td>\n",
       "      <td>&lt;NA&gt;</td>\n",
       "      <td>&lt;NA&gt;</td>\n",
       "      <td>&lt;NA&gt;</td>\n",
       "      <td>&lt;NA&gt;</td>\n",
       "      <td>&lt;NA&gt;</td>\n",
       "      <td>&lt;NA&gt;</td>\n",
       "      <td>...</td>\n",
       "      <td>&lt;NA&gt;</td>\n",
       "      <td>&lt;NA&gt;</td>\n",
       "      <td>&lt;NA&gt;</td>\n",
       "      <td>&lt;NA&gt;</td>\n",
       "      <td>&lt;NA&gt;</td>\n",
       "      <td>&lt;NA&gt;</td>\n",
       "      <td>&lt;NA&gt;</td>\n",
       "      <td>&lt;NA&gt;</td>\n",
       "      <td>&lt;NA&gt;</td>\n",
       "      <td>&lt;NA&gt;</td>\n",
       "    </tr>\n",
       "    <tr>\n",
       "      <th>143</th>\n",
       "      <td>&lt;NA&gt;</td>\n",
       "      <td>&lt;NA&gt;</td>\n",
       "      <td>0</td>\n",
       "      <td>&lt;NA&gt;</td>\n",
       "      <td>&lt;NA&gt;</td>\n",
       "      <td>&lt;NA&gt;</td>\n",
       "      <td>&lt;NA&gt;</td>\n",
       "      <td>&lt;NA&gt;</td>\n",
       "      <td>&lt;NA&gt;</td>\n",
       "      <td>&lt;NA&gt;</td>\n",
       "      <td>...</td>\n",
       "      <td>&lt;NA&gt;</td>\n",
       "      <td>&lt;NA&gt;</td>\n",
       "      <td>&lt;NA&gt;</td>\n",
       "      <td>&lt;NA&gt;</td>\n",
       "      <td>&lt;NA&gt;</td>\n",
       "      <td>&lt;NA&gt;</td>\n",
       "      <td>&lt;NA&gt;</td>\n",
       "      <td>&lt;NA&gt;</td>\n",
       "      <td>&lt;NA&gt;</td>\n",
       "      <td>&lt;NA&gt;</td>\n",
       "    </tr>\n",
       "  </tbody>\n",
       "</table>\n",
       "<p>5 rows × 50 columns</p>\n",
       "</div>"
      ],
      "text/plain": [
       "     A0001  A0002  A0003  A0004  A0005  A0006  A0007  A0008  A0009  A0010  \\\n",
       "247   <NA>      2   <NA>   <NA>   <NA>   <NA>   <NA>   <NA>   <NA>   <NA>   \n",
       "290   <NA>   <NA>   <NA>   <NA>   <NA>   <NA>   <NA>   <NA>   <NA>   <NA>   \n",
       "262   <NA>   <NA>   <NA>   <NA>   <NA>   <NA>      2   <NA>   <NA>   <NA>   \n",
       "182   <NA>   <NA>   <NA>   <NA>   <NA>   <NA>   <NA>   <NA>   <NA>   <NA>   \n",
       "143   <NA>   <NA>      0   <NA>   <NA>   <NA>   <NA>   <NA>   <NA>   <NA>   \n",
       "\n",
       "     ...  A0041  A0042  A0043  A0044  A0045  A0046  A0047  A0048  A0049  A0050  \n",
       "247  ...   <NA>   <NA>   <NA>   <NA>   <NA>   <NA>   <NA>   <NA>   <NA>   <NA>  \n",
       "290  ...   <NA>   <NA>   <NA>   <NA>   <NA>   <NA>   <NA>   <NA>   <NA>   <NA>  \n",
       "262  ...   <NA>   <NA>   <NA>   <NA>   <NA>   <NA>   <NA>   <NA>   <NA>   <NA>  \n",
       "182  ...   <NA>   <NA>   <NA>   <NA>   <NA>   <NA>   <NA>   <NA>   <NA>   <NA>  \n",
       "143  ...   <NA>   <NA>   <NA>   <NA>   <NA>   <NA>   <NA>   <NA>   <NA>   <NA>  \n",
       "\n",
       "[5 rows x 50 columns]"
      ]
     },
     "execution_count": 5,
     "metadata": {},
     "output_type": "execute_result"
    }
   ],
   "source": [
    "multiannotator_labels.head()"
   ]
  },
  {
   "cell_type": "markdown",
   "id": "2058d6fb",
   "metadata": {},
   "source": [
    "Here are the corresponding 2D data features for these examples:"
   ]
  },
  {
   "cell_type": "code",
   "execution_count": 6,
   "id": "f5a59e23",
   "metadata": {},
   "outputs": [
    {
     "data": {
      "text/plain": [
       "array([[ 1.01592896, 10.62213634],\n",
       "       [-1.91393643,  6.53944268],\n",
       "       [ 0.55962291,  5.35885902],\n",
       "       [ 6.73677377,  5.02311322],\n",
       "       [ 6.95949986,  1.61434817]])"
      ]
     },
     "execution_count": 6,
     "metadata": {},
     "output_type": "execute_result"
    }
   ],
   "source": [
    "X[:5]"
   ]
  },
  {
   "cell_type": "markdown",
   "id": "7f0f836e",
   "metadata": {},
   "source": [
    "### Train model with cross-validation\n",
    "\n",
    "In this exercise, we consider the simple K Nearest Neighbors classification model, which produces predicted class probabilities for a particular example via a (weighted) average of the labels of the K closest examples. We will train this model via cross-validation and use it to produce held-out predictions for each example in our dataset."
   ]
  },
  {
   "cell_type": "code",
   "execution_count": 7,
   "id": "77527d5c",
   "metadata": {},
   "outputs": [],
   "source": [
    "from sklearn.neighbors import KNeighborsClassifier\n",
    "from sklearn.model_selection import cross_val_predict\n",
    "\n",
    "def train_model(labels_to_fit):\n",
    "    \"\"\" Trains a simple feedforward neural network model on the data features X with y = labels_to_fit, via cross-validation.\n",
    "        Returns out-of-sample predicted class probabilities for each example in the dataset\n",
    "        (from a copy of model that was never trained on this example).\n",
    "        Also evaluates the held-out class predictions against ground truth labels.\n",
    "    \"\"\"\n",
    "    num_crossval_folds = 5  # number of folds of cross-validation\n",
    "    # model = MLPClassifier(max_iter=1000, random_state=SEED)\n",
    "    model = KNeighborsClassifier(weights=\"distance\")\n",
    "    pred_probs = cross_val_predict(\n",
    "        estimator=model, X=X, y=labels_to_fit, cv=num_crossval_folds, method=\"predict_proba\"\n",
    "    )\n",
    "    class_predictions = np.argmax(pred_probs, axis=1)\n",
    "    held_out_accuracy = np.mean(class_predictions == true_labels)\n",
    "    print(f\"Accuracy of held-out model predictions against ground truth labels: {held_out_accuracy}\")\n",
    "    return pred_probs"
   ]
  },
  {
   "cell_type": "markdown",
   "id": "4630fa59",
   "metadata": {},
   "source": [
    "Here we demonstrate how to train and evaluate this model. Note that the evaluation is against ground truth labels, which you wouldn't have in real applications, so this evaluation is just for demonstration purposes. We'll first fit this model using labels comprised of one randomly selected annotation for each example."
   ]
  },
  {
   "cell_type": "code",
   "execution_count": 8,
   "id": "0d6cde68",
   "metadata": {},
   "outputs": [
    {
     "name": "stdout",
     "output_type": "stream",
     "text": [
      "Accuracy of random annotators' labels against ground truth labels: 0.6822742474916388\n",
      "Accuracy of held-out model predictions against ground truth labels: 0.8093645484949833\n"
     ]
    }
   ],
   "source": [
    "labels_from_random_annotators = true_labels.copy()\n",
    "for i in range(len(multiannotator_labels)):\n",
    "    annotations_for_example_i = multiannotator_labels.iloc[i][pd.notna(multiannotator_labels.iloc[i])]\n",
    "    labels_from_random_annotators[i] = np.random.choice(annotations_for_example_i.values)\n",
    "\n",
    "print(f\"Accuracy of random annotators' labels against ground truth labels: {np.mean(labels_from_random_annotators == true_labels)}\")\n",
    "pred_probs_from_model_fit_to_random_annotators = train_model(labels_to_fit = labels_from_random_annotators)\n"
   ]
  },
  {
   "cell_type": "markdown",
   "id": "a60403d0",
   "metadata": {},
   "source": [
    "We can also fit this model using the ground truth labels (which you would not be able to in practice), just to see how good it could be:"
   ]
  },
  {
   "cell_type": "code",
   "execution_count": 9,
   "id": "ee1a3d99",
   "metadata": {},
   "outputs": [
    {
     "name": "stdout",
     "output_type": "stream",
     "text": [
      "Accuracy of held-out model predictions against ground truth labels: 0.9765886287625418\n"
     ]
    }
   ],
   "source": [
    "pred_probs_from_unrealistic_model_fit_to_true_labels = train_model(labels_to_fit = true_labels)"
   ]
  },
  {
   "cell_type": "markdown",
   "id": "262b36c4",
   "metadata": {},
   "source": [
    "## Exercise 1\n",
    "\n",
    "Compute majority-vote consensus labels for each example from the data in `multiannotator_labels`. Think about how to best break ties!\n",
    "\n",
    "- Evaluate the accuracy of these majority-vote consensus labels against the ground truth labels.\n",
    "- Also set these as `labels_to_fit` in `train_model()` to see the resulting model's accuracy when trained with majority vote consensus labels.\n",
    "- Estimate the quality of annotator (how accurate their labels tend to be overall) using only these majority-vote consensus labels (assume the ground truth labels are unavailable as they would be in practice). Who do you guess are the worst 10 annotators?"
   ]
  },
  {
   "cell_type": "code",
   "execution_count": 31,
   "id": "4ee57297",
   "metadata": {
    "scrolled": true
   },
   "outputs": [
    {
     "name": "stdout",
     "output_type": "stream",
     "text": [
      "Consensus label accuracy: 88.29 %\n",
      "Accuracy of held-out model predictions against ground truth labels: 0.9464882943143813\n",
      "Index(['A0001', 'A0002', 'A0003', 'A0004', 'A0005', 'A0006', 'A0007', 'A0008',\n",
      "       'A0009', 'A0010', 'A0011', 'A0012', 'A0013', 'A0014', 'A0015', 'A0016',\n",
      "       'A0017', 'A0018', 'A0019', 'A0020', 'A0021', 'A0022', 'A0023', 'A0024',\n",
      "       'A0025', 'A0026', 'A0027', 'A0028', 'A0029', 'A0030', 'A0031', 'A0032',\n",
      "       'A0033', 'A0034', 'A0035', 'A0036', 'A0037', 'A0038', 'A0039', 'A0040',\n",
      "       'A0041', 'A0042', 'A0043', 'A0044', 'A0045', 'A0046', 'A0047', 'A0048',\n",
      "       'A0049', 'A0050'],\n",
      "      dtype='object')\n"
     ]
    }
   ],
   "source": [
    "from collections import Counter\n",
    "\n",
    "def accuracy_of_consensus_labels(multiannotator_labels, true_labels):\n",
    "    assert len(multiannotator_labels) == len(true_labels)\n",
    "    correct_consensus_labels = 0\n",
    "    consensus_labels = []\n",
    "    for i in range(len(multiannotator_labels)):\n",
    "        label_counts = Counter(multiannotator_labels.iloc[i].values)\n",
    "        true_label = true_labels[i]\n",
    "        consensus_label = None\n",
    "        for label, count in label_counts.most_common(2):\n",
    "            if pd.notna(label):\n",
    "                consensus_label = label\n",
    "                break\n",
    "        assert consensus_label is not None\n",
    "        consensus_labels.append(consensus_label)\n",
    "        if consensus_label == true_label:\n",
    "            correct_consensus_labels += 1\n",
    "    return correct_consensus_labels / len(multiannotator_labels), np.array(consensus_labels)\n",
    "        \n",
    "accuracy, consensus_labels = accuracy_of_consensus_labels(multiannotator_labels, true_labels)\n",
    "print(f\"Consensus label accuracy: {accuracy*100:.2f} %\")\n",
    "\n",
    "model_on_consensus_labels = train_model(consensus_labels)"
   ]
  },
  {
   "cell_type": "code",
   "execution_count": 41,
   "id": "6734e8c3",
   "metadata": {},
   "outputs": [
    {
     "name": "stdout",
     "output_type": "stream",
     "text": [
      "best annotators [('A0005', 0.9230769230769231), ('A0024', 0.8787878787878788), ('A0010', 0.8571428571428571), ('A0037', 0.8571428571428571), ('A0001', 0.84), ('A0008', 0.8333333333333334), ('A0020', 0.8333333333333334), ('A0028', 0.8181818181818182), ('A0025', 0.8148148148148148), ('A0023', 0.8)]\n",
      "worst_annotators [('A0048', 0.40625), ('A0044', 0.42857142857142855), ('A0046', 0.4827586206896552), ('A0043', 0.48484848484848486), ('A0045', 0.5), ('A0022', 0.5625), ('A0042', 0.5714285714285714), ('A0041', 0.5714285714285714), ('A0050', 0.575), ('A0049', 0.5833333333333334)]\n"
     ]
    }
   ],
   "source": [
    "def annotator_accuracy(annotator_labels, consensus_labels):\n",
    "    annotator_label_count = 0\n",
    "    annotator_correct_labels = 0\n",
    "    for annotator_label, consensus_label in zip(annotator_labels, consensus_labels):\n",
    "        if pd.notna(annotator_label):\n",
    "            annotator_label_count += 1\n",
    "            if annotator_label == consensus_label:\n",
    "                annotator_correct_labels += 1\n",
    "    return annotator_correct_labels / annotator_label_count\n",
    "\n",
    "def accuracy_of_annotators(multiannotator_labels, consensus_labels):\n",
    "    annotator_accuracies = {}\n",
    "    for annotator in multiannotator_labels.columns:\n",
    "        annotator_accuracies[annotator] = annotator_accuracy(multiannotator_labels[annotator], consensus_labels)\n",
    "    return annotator_accuracies\n",
    "\n",
    "annotator_accuracies = accuracy_of_annotators(multiannotator_labels, consensus_labels)\n",
    "\n",
    "best_annotators = sorted(annotator_accuracies.items(), key=lambda x: x[1], reverse=True)\n",
    "print(\"best annotators\", best_annotators[:10])\n",
    "print(\"worst_annotators\", list(reversed(best_annotators[-10:])))"
   ]
  },
  {
   "cell_type": "markdown",
   "id": "a38fb1a9",
   "metadata": {},
   "source": [
    "## Exercise 2\n",
    "\n",
    "Estimate consensus labels for each example from the data in `multiannotator_labels`, this time using the CROWDLAB algorithm. You may find it helpful to reference: https://docs.cleanlab.ai/stable/tutorials/multiannotator.html\n",
    "Recall that CROWDLAB requires out of sample predicted class probabilities from a trained classifier. You may use the `pred_probs` from your model trained on majority-vote consensus labels or our randomly-selected annotator labels. Which do you think would be better to use?\n",
    "\n",
    "- Evaluate the accuracy of these CROWDLAB consensus labels against the ground truth labels.\n",
    "- Also set these as `labels_to_fit` in `train_model()` to see the resulting model's accuracy when trained with CROWDLAB consensus labels.\n",
    "- Estimate the quality of annotator (how accurate their labels tend to be overall) using CROWDLAB (assume the ground truth labels are unavailable as they would be in practice). Who do you guess are the worst 10 annotators based on this method?"
   ]
  },
  {
   "cell_type": "code",
   "execution_count": 44,
   "id": "0ae8771c",
   "metadata": {},
   "outputs": [
    {
     "name": "stdout",
     "output_type": "stream",
     "text": [
      "Annotator(s) ['A0004' 'A0007' 'A0014' 'A0021' 'A0025' 'A0026' 'A0036' 'A0037' 'A0039'] did not annotate any examples that overlap with other annotators,                 \n",
      "using the average annotator agreeement among other annotators as this annotator's agreement.\n",
      "Annotator(s) ['A0004' 'A0007' 'A0014' 'A0021' 'A0025' 'A0026' 'A0036' 'A0037' 'A0039'] did not annotate any examples that overlap with other annotators,                 \n",
      "using the average annotator agreeement among other annotators as this annotator's agreement.\n"
     ]
    },
    {
     "data": {
      "text/html": [
       "<div>\n",
       "<style scoped>\n",
       "    .dataframe tbody tr th:only-of-type {\n",
       "        vertical-align: middle;\n",
       "    }\n",
       "\n",
       "    .dataframe tbody tr th {\n",
       "        vertical-align: top;\n",
       "    }\n",
       "\n",
       "    .dataframe thead th {\n",
       "        text-align: right;\n",
       "    }\n",
       "</style>\n",
       "<table border=\"1\" class=\"dataframe\">\n",
       "  <thead>\n",
       "    <tr style=\"text-align: right;\">\n",
       "      <th></th>\n",
       "      <th>consensus_label</th>\n",
       "      <th>consensus_quality_score</th>\n",
       "      <th>annotator_agreement</th>\n",
       "      <th>num_annotations</th>\n",
       "    </tr>\n",
       "  </thead>\n",
       "  <tbody>\n",
       "    <tr>\n",
       "      <th>0</th>\n",
       "      <td>2</td>\n",
       "      <td>0.952935</td>\n",
       "      <td>1.000000</td>\n",
       "      <td>4</td>\n",
       "    </tr>\n",
       "    <tr>\n",
       "      <th>1</th>\n",
       "      <td>2</td>\n",
       "      <td>0.867086</td>\n",
       "      <td>1.000000</td>\n",
       "      <td>1</td>\n",
       "    </tr>\n",
       "    <tr>\n",
       "      <th>2</th>\n",
       "      <td>2</td>\n",
       "      <td>0.799818</td>\n",
       "      <td>0.600000</td>\n",
       "      <td>5</td>\n",
       "    </tr>\n",
       "    <tr>\n",
       "      <th>3</th>\n",
       "      <td>1</td>\n",
       "      <td>0.858859</td>\n",
       "      <td>0.571429</td>\n",
       "      <td>7</td>\n",
       "    </tr>\n",
       "    <tr>\n",
       "      <th>4</th>\n",
       "      <td>0</td>\n",
       "      <td>0.874720</td>\n",
       "      <td>0.333333</td>\n",
       "      <td>3</td>\n",
       "    </tr>\n",
       "    <tr>\n",
       "      <th>...</th>\n",
       "      <td>...</td>\n",
       "      <td>...</td>\n",
       "      <td>...</td>\n",
       "      <td>...</td>\n",
       "    </tr>\n",
       "    <tr>\n",
       "      <th>294</th>\n",
       "      <td>2</td>\n",
       "      <td>0.955921</td>\n",
       "      <td>0.750000</td>\n",
       "      <td>8</td>\n",
       "    </tr>\n",
       "    <tr>\n",
       "      <th>295</th>\n",
       "      <td>0</td>\n",
       "      <td>0.876945</td>\n",
       "      <td>0.666667</td>\n",
       "      <td>6</td>\n",
       "    </tr>\n",
       "    <tr>\n",
       "      <th>296</th>\n",
       "      <td>1</td>\n",
       "      <td>0.967105</td>\n",
       "      <td>1.000000</td>\n",
       "      <td>1</td>\n",
       "    </tr>\n",
       "    <tr>\n",
       "      <th>297</th>\n",
       "      <td>0</td>\n",
       "      <td>0.822457</td>\n",
       "      <td>1.000000</td>\n",
       "      <td>1</td>\n",
       "    </tr>\n",
       "    <tr>\n",
       "      <th>298</th>\n",
       "      <td>0</td>\n",
       "      <td>0.951025</td>\n",
       "      <td>0.600000</td>\n",
       "      <td>5</td>\n",
       "    </tr>\n",
       "  </tbody>\n",
       "</table>\n",
       "<p>299 rows × 4 columns</p>\n",
       "</div>"
      ],
      "text/plain": [
       "     consensus_label  consensus_quality_score  annotator_agreement  \\\n",
       "0                  2                 0.952935             1.000000   \n",
       "1                  2                 0.867086             1.000000   \n",
       "2                  2                 0.799818             0.600000   \n",
       "3                  1                 0.858859             0.571429   \n",
       "4                  0                 0.874720             0.333333   \n",
       "..               ...                      ...                  ...   \n",
       "294                2                 0.955921             0.750000   \n",
       "295                0                 0.876945             0.666667   \n",
       "296                1                 0.967105             1.000000   \n",
       "297                0                 0.822457             1.000000   \n",
       "298                0                 0.951025             0.600000   \n",
       "\n",
       "     num_annotations  \n",
       "0                  4  \n",
       "1                  1  \n",
       "2                  5  \n",
       "3                  7  \n",
       "4                  3  \n",
       "..               ...  \n",
       "294                8  \n",
       "295                6  \n",
       "296                1  \n",
       "297                1  \n",
       "298                5  \n",
       "\n",
       "[299 rows x 4 columns]"
      ]
     },
     "execution_count": 44,
     "metadata": {},
     "output_type": "execute_result"
    }
   ],
   "source": [
    "## Code your solution here\n",
    "from cleanlab.multiannotator import get_label_quality_multiannotator\n",
    "\n",
    "label_quality = get_label_quality_multiannotator(multiannotator_labels, model_on_consensus_labels)\n",
    "#print(\"label_quality\", label_quality)\n",
    "label_quality[\"label_quality\"]"
   ]
  },
  {
   "cell_type": "code",
   "execution_count": 48,
   "id": "15ed9c2a",
   "metadata": {},
   "outputs": [
    {
     "name": "stdout",
     "output_type": "stream",
     "text": [
      "Accuracy of crowdlab consensus labels against ground truth labels: 0.9665551839464883\n",
      "Accuracy of held-out model predictions against ground truth labels: 0.9665551839464883\n",
      "Worst annotators        annotator_quality  agreement_with_consensus  worst_class  \\\n",
      "A0043           0.371970                  0.363636            2   \n",
      "A0048           0.385927                  0.406250            1   \n",
      "A0044           0.390395                  0.428571            2   \n",
      "A0046           0.398778                  0.448276            1   \n",
      "A0042           0.419364                  0.457143            1   \n",
      "A0040           0.432566                  0.481481            2   \n",
      "A0041           0.449346                  0.464286            1   \n",
      "A0050           0.471168                  0.525000            2   \n",
      "A0049           0.472347                  0.527778            2   \n",
      "A0047           0.516698                  0.560000            2   \n",
      "\n",
      "       num_examples_labeled  \n",
      "A0043                    33  \n",
      "A0048                    32  \n",
      "A0044                    21  \n",
      "A0046                    29  \n",
      "A0042                    35  \n",
      "A0040                    27  \n",
      "A0041                    28  \n",
      "A0050                    40  \n",
      "A0049                    36  \n",
      "A0047                    25  \n"
     ]
    }
   ],
   "source": [
    "crowdlab_consensus_labels = label_quality[\"label_quality\"][\"consensus_label\"]\n",
    "\n",
    "print(f\"Accuracy of crowdlab consensus labels against ground truth labels: {np.mean(crowdlab_consensus_labels == true_labels)}\")\n",
    "\n",
    "crowdlab_pred_probs = train_model(crowdlab_consensus_labels)\n",
    "\n",
    "annotators = label_quality[\"annotator_stats\"]\n",
    "print(\"Worst annotators\", annotators.head(10))"
   ]
  },
  {
   "cell_type": "code",
   "execution_count": null,
   "id": "dc6c0b47",
   "metadata": {},
   "outputs": [],
   "source": []
  }
 ],
 "metadata": {
  "kernelspec": {
   "display_name": "Python 3 (ipykernel)",
   "language": "python",
   "name": "python3"
  },
  "language_info": {
   "codemirror_mode": {
    "name": "ipython",
    "version": 3
   },
   "file_extension": ".py",
   "mimetype": "text/x-python",
   "name": "python",
   "nbconvert_exporter": "python",
   "pygments_lexer": "ipython3",
   "version": "3.10.6"
  }
 },
 "nbformat": 4,
 "nbformat_minor": 5
}
